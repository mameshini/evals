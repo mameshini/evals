{
 "cells": [
  {
   "cell_type": "markdown",
   "id": "508659b9",
   "metadata": {},
   "source": [
    "# People Analytics - Project filling Demo\n",
    "\n",
    "This notebook walks through quick examples of how to **recommend people to fill projects** using different approaches:\n",
    "- Right mix of skills\n",
    "- Worked on similar projects\n",
    "- Influential people\n",
    "- Form Communities of Practice\n",
    "- People with Similar Experience\n",
    "\n",
    "Some other examples using Neo4j Browser and *:play field/pocs/kghrdemo.html* \n"
   ]
  },
  {
   "cell_type": "markdown",
   "id": "a6e18b80",
   "metadata": {},
   "source": [
    "## Notebook Setup"
   ]
  },
  {
   "cell_type": "markdown",
   "id": "4af49319",
   "metadata": {},
   "source": [
    "Notebook was created running with\n",
    "- Neo4j Enterprise 4.4.12\n",
    "- Graph Data Science Library 2.1.12"
   ]
  },
  {
   "cell_type": "code",
   "execution_count": 1,
   "id": "a512abc4",
   "metadata": {
    "pycharm": {
     "name": "#%%\n"
    }
   },
   "outputs": [
    {
     "name": "stderr",
     "output_type": "stream",
     "text": [
      "<jemalloc>: MADV_DONTNEED does not work (memset will be used instead)\n",
      "<jemalloc>: (This is the expected behaviour if you are running under QEMU)\n"
     ]
    }
   ],
   "source": [
    "from graphdatascience import GraphDataScience\n",
    "import pandas as pd\n",
    "import numpy as np\n",
    "import configparser\n",
    "import os\n",
    "import matplotlib.pyplot as plt\n",
    "pd.set_option('display.width', 0)\n",
    "pd.set_option('display.max_colwidth', 500)\n",
    "pd.set_option('display.max_rows', 12)"
   ]
  },
  {
   "cell_type": "markdown",
   "id": "47909474",
   "metadata": {},
   "source": [
    "### Neo4j Settings\n",
    "The `NEO4J_PROPERTIES_FILE` is an ini configuration file for Neo4j properties so this notebook can connect to\n",
    "your Neo4j instance and load data. The ini file should be formatted as follows\n",
    "```\n",
    "[NEO4J]\n",
    "PASSWORD=<password>\n",
    "USERNAME=<database name, is 'neo4j' by default>\n",
    "HOST=<host uri>\n",
    "DATABASE=<database>\n",
    "\n",
    "```\n",
    "\n",
    "Set `NEO4J_PROPERTIES_FILE` to None or any non-existent location to use the below defaults\n",
    "```\n",
    "HOST = 'neo4j://localhost'\n",
    "USERNAME = 'neo4j'\n",
    "PASSWORD = 'password'\n",
    "DATABASE = 'neo4j'\n",
    "```"
   ]
  },
  {
   "cell_type": "code",
   "execution_count": 2,
   "id": "3e8280d4",
   "metadata": {},
   "outputs": [],
   "source": [
    "NEO4J_PROPERTIES_FILE = './neo4jconnection.ini'"
   ]
  },
  {
   "cell_type": "code",
   "execution_count": 3,
   "id": "873a8ba2",
   "metadata": {
    "pycharm": {
     "name": "#%%\n"
    }
   },
   "outputs": [
    {
     "name": "stdout",
     "output_type": "stream",
     "text": [
      "Using custom database properties\n"
     ]
    }
   ],
   "source": [
    "## Using an ini file for credentials, otherwise providing defaults\n",
    "HOST = 'neo4j://localhost'\n",
    "USERNAME = 'neo4j'\n",
    "PASSWORD = 'password'\n",
    "DATABASE = 'neo4j'\n",
    "\n",
    "if NEO4J_PROPERTIES_FILE is not None and os.path.exists(NEO4J_PROPERTIES_FILE):\n",
    "    config = configparser.RawConfigParser()\n",
    "    config.read(NEO4J_PROPERTIES_FILE)\n",
    "    HOST = config['NEO4J']['HOST']\n",
    "    DATABASE = config['NEO4J']['DATABASE']\n",
    "    USERNAME = config['NEO4J']['USERNAME']\n",
    "    PASSWORD = config['NEO4J']['PASSWORD']\n",
    "    print('Using custom database properties')\n",
    "else:\n",
    "    print('Could not find database properties file, using defaults')"
   ]
  },
  {
   "cell_type": "markdown",
   "id": "83129ce5",
   "metadata": {},
   "source": [
    "# People Analytics - Project filling Demo"
   ]
  },
  {
   "cell_type": "markdown",
   "id": "0f51411c",
   "metadata": {},
   "source": [
    "## Dataset: Personel/Projects/Skills\n",
    "\n",
    "The examples in this notebook primarily focus on the left hand side of the graph - Personnel, Projects and Skills, there are 3 patterns to relate Personnel to skills\n",
    "\n",
    "- Declared skills\n",
    "  - (:Personnel)-[:DECLARED_SKILL]->(:Skill)\n",
    "- Inferred skills\n",
    "  - by projects they worked on (have had some exposure to skill)\n",
    "    - (per:Personnel)-[:HAS_ACTIVE_STATUS]->(ps)-[:INVOLVED_IN]->(p:Project)-[:REQUIRED_SKILL]->(sk:Skill)\n",
    "  - by skill hierarchy (knowing some skill gives related knowledge of broader skills or sibling skills)\n",
    "    - (:Skill)-[:SUB_CLASS_OF]->(:Skill)\n",
    "\n",
    "![graphdatamodel.png](img/graphdatamodel.png)"
   ]
  },
  {
   "cell_type": "markdown",
   "id": "b0488aa4",
   "metadata": {},
   "source": [
    "```\n",
    "//visualize schema in Neo4j Browser\n",
    "CALL db.schema.visualization();\n",
    "```"
   ]
  },
  {
   "cell_type": "markdown",
   "id": "5bc5845e",
   "metadata": {},
   "source": [
    "## Graph Data Profiling\n",
    "Before diving right into into analysis, it is helpful to inspect some high level statistics of graph to get a better sense of size and connectivity."
   ]
  },
  {
   "cell_type": "code",
   "execution_count": 4,
   "id": "2d39247d",
   "metadata": {
    "pycharm": {
     "name": "#%%\n"
    }
   },
   "outputs": [],
   "source": [
    "gds = GraphDataScience(HOST, auth=(USERNAME, PASSWORD), aura_ds=False)\n",
    "gds.set_database(DATABASE)"
   ]
  },
  {
   "cell_type": "markdown",
   "id": "3f585e0d",
   "metadata": {},
   "source": [
    "#### Aggregate Counts\n",
    "Let's start with high node and relationships counts. These functions assume [APOC](https://neo4j.com/developer/neo4j-apoc/) is installed on your Neo4j DB."
   ]
  },
  {
   "cell_type": "code",
   "execution_count": 5,
   "id": "94812ca6",
   "metadata": {
    "collapsed": false,
    "jupyter": {
     "outputs_hidden": false
    },
    "pycharm": {
     "name": "#%%\n"
    }
   },
   "outputs": [
    {
     "data": {
      "text/html": [
       "<div>\n",
       "<style scoped>\n",
       "    .dataframe tbody tr th:only-of-type {\n",
       "        vertical-align: middle;\n",
       "    }\n",
       "\n",
       "    .dataframe tbody tr th {\n",
       "        vertical-align: top;\n",
       "    }\n",
       "\n",
       "    .dataframe thead th {\n",
       "        text-align: right;\n",
       "    }\n",
       "</style>\n",
       "<table border=\"1\" class=\"dataframe\">\n",
       "  <thead>\n",
       "    <tr style=\"text-align: right;\">\n",
       "      <th></th>\n",
       "      <th>label</th>\n",
       "      <th>nodeCount</th>\n",
       "    </tr>\n",
       "  </thead>\n",
       "  <tbody>\n",
       "    <tr>\n",
       "      <th>0</th>\n",
       "      <td>Position</td>\n",
       "      <td>40001</td>\n",
       "    </tr>\n",
       "    <tr>\n",
       "      <th>1</th>\n",
       "      <td>Personnel</td>\n",
       "      <td>30001</td>\n",
       "    </tr>\n",
       "    <tr>\n",
       "      <th>2</th>\n",
       "      <td>Project</td>\n",
       "      <td>999</td>\n",
       "    </tr>\n",
       "    <tr>\n",
       "      <th>3</th>\n",
       "      <td>Skill</td>\n",
       "      <td>12576</td>\n",
       "    </tr>\n",
       "  </tbody>\n",
       "</table>\n",
       "</div>"
      ],
      "text/plain": [
       "       label  nodeCount\n",
       "0   Position      40001\n",
       "1  Personnel      30001\n",
       "2    Project        999\n",
       "3      Skill      12576"
      ]
     },
     "execution_count": 5,
     "metadata": {},
     "output_type": "execute_result"
    }
   ],
   "source": [
    "# total node counts\n",
    "gds.run_cypher( '''\n",
    "    CALL apoc.meta.stats()\n",
    "    YIELD labels AS nodeCounts\n",
    "    UNWIND keys(nodeCounts) AS label\n",
    "    WITH label, nodeCounts[label] AS nodeCount\n",
    "    WHERE label IN ['Position','Project','Skill','Personnel']\n",
    "    RETURN label, nodeCount\n",
    "''')"
   ]
  },
  {
   "cell_type": "code",
   "execution_count": 6,
   "id": "44547934",
   "metadata": {
    "collapsed": false,
    "jupyter": {
     "outputs_hidden": false
    },
    "pycharm": {
     "name": "#%%\n"
    }
   },
   "outputs": [
    {
     "data": {
      "text/html": [
       "<div>\n",
       "<style scoped>\n",
       "    .dataframe tbody tr th:only-of-type {\n",
       "        vertical-align: middle;\n",
       "    }\n",
       "\n",
       "    .dataframe tbody tr th {\n",
       "        vertical-align: top;\n",
       "    }\n",
       "\n",
       "    .dataframe thead th {\n",
       "        text-align: right;\n",
       "    }\n",
       "</style>\n",
       "<table border=\"1\" class=\"dataframe\">\n",
       "  <thead>\n",
       "    <tr style=\"text-align: right;\">\n",
       "      <th></th>\n",
       "      <th>type</th>\n",
       "      <th>relationshipCount</th>\n",
       "    </tr>\n",
       "  </thead>\n",
       "  <tbody>\n",
       "    <tr>\n",
       "      <th>0</th>\n",
       "      <td>DECLARED_SKILL</td>\n",
       "      <td>63</td>\n",
       "    </tr>\n",
       "    <tr>\n",
       "      <th>1</th>\n",
       "      <td>REQUIRED_SKILL</td>\n",
       "      <td>2728</td>\n",
       "    </tr>\n",
       "  </tbody>\n",
       "</table>\n",
       "</div>"
      ],
      "text/plain": [
       "             type  relationshipCount\n",
       "0  DECLARED_SKILL                 63\n",
       "1  REQUIRED_SKILL               2728"
      ]
     },
     "execution_count": 6,
     "metadata": {},
     "output_type": "execute_result"
    }
   ],
   "source": [
    "# total relationship counts\n",
    "gds.run_cypher( '''\n",
    "    CALL apoc.meta.stats()\n",
    "    YIELD relTypesCount as relationshipCounts\n",
    "    UNWIND keys(relationshipCounts) AS type\n",
    "    WITH type, relationshipCounts[type] AS relationshipCount\n",
    "    WHERE type IN ['REQUIRED_SKILL','DECLARED_SKILL']\n",
    "    RETURN type, relationshipCount\n",
    "''')"
   ]
  },
  {
   "cell_type": "markdown",
   "id": "fbe34b62",
   "metadata": {},
   "source": [
    "Lets have a look at the frequency of project required skills"
   ]
  },
  {
   "cell_type": "code",
   "execution_count": 7,
   "id": "0daaf0be",
   "metadata": {},
   "outputs": [],
   "source": [
    "skills_df = gds.run_cypher('''\n",
    "MATCH (p:Project)-[:REQUIRED_SKILL]->(sk:Skill)\n",
    "RETURN sk.name AS skill, count(p) AS freq LIMIT 30\n",
    "''')"
   ]
  },
  {
   "cell_type": "code",
   "execution_count": 8,
   "id": "cc6ba63a",
   "metadata": {},
   "outputs": [
    {
     "data": {
      "image/png": "[encoded data removed]",
      "text/plain": [
       "<Figure size 640x480 with 1 Axes>"
      ]
     },
     "metadata": {},
     "output_type": "display_data"
    }
   ],
   "source": [
    "fig = plt.figure()\n",
    "\n",
    "axs = fig.add_axes([0,0,1,1])\n",
    "axs.bar(skills_df.skill,skills_df.freq)\n",
    "axs.set_title('Skills by frequency')\n",
    "axs.set_xlabel('Skill')\n",
    "axs.set_ylabel('Number skills per function')\n",
    "plt.xticks(rotation=90)\n",
    "plt.show()\n",
    "\n",
    "# plt.show()"
   ]
  },
  {
   "cell_type": "markdown",
   "id": "980da9c0",
   "metadata": {},
   "source": [
    "## Project Filling\n"
   ]
  },
  {
   "cell_type": "markdown",
   "id": "96b63328",
   "metadata": {},
   "source": [
    "#### What skills are required for a this project?"
   ]
  },
  {
   "cell_type": "code",
   "execution_count": 9,
   "id": "bd06b1e6",
   "metadata": {},
   "outputs": [],
   "source": [
    "PROJECT='Australian brush turkey'"
   ]
  },
  {
   "cell_type": "code",
   "execution_count": 10,
   "id": "be13af78",
   "metadata": {
    "pycharm": {
     "name": "#%%\n"
    }
   },
   "outputs": [
    {
     "data": {
      "text/html": [
       "<div>\n",
       "<style scoped>\n",
       "    .dataframe tbody tr th:only-of-type {\n",
       "        vertical-align: middle;\n",
       "    }\n",
       "\n",
       "    .dataframe tbody tr th {\n",
       "        vertical-align: top;\n",
       "    }\n",
       "\n",
       "    .dataframe thead th {\n",
       "        text-align: right;\n",
       "    }\n",
       "</style>\n",
       "<table border=\"1\" class=\"dataframe\">\n",
       "  <thead>\n",
       "    <tr style=\"text-align: right;\">\n",
       "      <th></th>\n",
       "      <th>Skill</th>\n",
       "    </tr>\n",
       "  </thead>\n",
       "  <tbody>\n",
       "    <tr>\n",
       "      <th>0</th>\n",
       "      <td>Freenet</td>\n",
       "    </tr>\n",
       "    <tr>\n",
       "      <th>1</th>\n",
       "      <td>Apple Certified Pro - Logic Pro 10.3</td>\n",
       "    </tr>\n",
       "    <tr>\n",
       "      <th>2</th>\n",
       "      <td>Data Extraction</td>\n",
       "    </tr>\n",
       "    <tr>\n",
       "      <th>3</th>\n",
       "      <td>Data Collection</td>\n",
       "    </tr>\n",
       "    <tr>\n",
       "      <th>4</th>\n",
       "      <td>Data Streaming</td>\n",
       "    </tr>\n",
       "    <tr>\n",
       "      <th>5</th>\n",
       "      <td>Data Cleaning</td>\n",
       "    </tr>\n",
       "    <tr>\n",
       "      <th>6</th>\n",
       "      <td>Data Modeling</td>\n",
       "    </tr>\n",
       "    <tr>\n",
       "      <th>7</th>\n",
       "      <td>Data Imports</td>\n",
       "    </tr>\n",
       "  </tbody>\n",
       "</table>\n",
       "</div>"
      ],
      "text/plain": [
       "                                  Skill\n",
       "0                               Freenet\n",
       "1  Apple Certified Pro - Logic Pro 10.3\n",
       "2                       Data Extraction\n",
       "3                       Data Collection\n",
       "4                        Data Streaming\n",
       "5                         Data Cleaning\n",
       "6                         Data Modeling\n",
       "7                          Data Imports"
      ]
     },
     "execution_count": 10,
     "metadata": {},
     "output_type": "execute_result"
    }
   ],
   "source": [
    "gds.run_cypher('''\n",
    "    MATCH (p:Project)-[:REQUIRED_SKILL]->(skill) \n",
    "        WHERE p.name=$project_name\n",
    "    RETURN skill.label AS Skill\n",
    "''', params={'project_name': PROJECT})"
   ]
  },
  {
   "cell_type": "markdown",
   "id": "58a95944",
   "metadata": {},
   "source": [
    "#### What skills does a person have, both declared skills and inferred skills"
   ]
  },
  {
   "cell_type": "code",
   "execution_count": 11,
   "id": "60521a34",
   "metadata": {},
   "outputs": [],
   "source": [
    "NAME = \"Sidney Goaks\" "
   ]
  },
  {
   "cell_type": "code",
   "execution_count": 12,
   "id": "32fc0779",
   "metadata": {},
   "outputs": [
    {
     "data": {
      "text/html": [
       "<div>\n",
       "<style scoped>\n",
       "    .dataframe tbody tr th:only-of-type {\n",
       "        vertical-align: middle;\n",
       "    }\n",
       "\n",
       "    .dataframe tbody tr th {\n",
       "        vertical-align: top;\n",
       "    }\n",
       "\n",
       "    .dataframe thead th {\n",
       "        text-align: right;\n",
       "    }\n",
       "</style>\n",
       "<table border=\"1\" class=\"dataframe\">\n",
       "  <thead>\n",
       "    <tr style=\"text-align: right;\">\n",
       "      <th></th>\n",
       "      <th>skill</th>\n",
       "      <th>skillType</th>\n",
       "    </tr>\n",
       "  </thead>\n",
       "  <tbody>\n",
       "    <tr>\n",
       "      <th>0</th>\n",
       "      <td>Spark</td>\n",
       "      <td>declared</td>\n",
       "    </tr>\n",
       "    <tr>\n",
       "      <th>1</th>\n",
       "      <td>Python</td>\n",
       "      <td>declared</td>\n",
       "    </tr>\n",
       "    <tr>\n",
       "      <th>2</th>\n",
       "      <td>Neo4j</td>\n",
       "      <td>declared</td>\n",
       "    </tr>\n",
       "    <tr>\n",
       "      <th>3</th>\n",
       "      <td>Infrastructure_Platforms</td>\n",
       "      <td>declared + inferred</td>\n",
       "    </tr>\n",
       "    <tr>\n",
       "      <th>4</th>\n",
       "      <td>Data_Cleaning</td>\n",
       "      <td>declared + inferred</td>\n",
       "    </tr>\n",
       "    <tr>\n",
       "      <th>5</th>\n",
       "      <td>Data_Extraction</td>\n",
       "      <td>inferred</td>\n",
       "    </tr>\n",
       "    <tr>\n",
       "      <th>6</th>\n",
       "      <td>Data_Collection</td>\n",
       "      <td>inferred</td>\n",
       "    </tr>\n",
       "    <tr>\n",
       "      <th>7</th>\n",
       "      <td>Data_Streaming</td>\n",
       "      <td>inferred</td>\n",
       "    </tr>\n",
       "    <tr>\n",
       "      <th>8</th>\n",
       "      <td>Data_Modeling</td>\n",
       "      <td>inferred</td>\n",
       "    </tr>\n",
       "    <tr>\n",
       "      <th>9</th>\n",
       "      <td>Data_Imports</td>\n",
       "      <td>inferred</td>\n",
       "    </tr>\n",
       "  </tbody>\n",
       "</table>\n",
       "</div>"
      ],
      "text/plain": [
       "                      skill            skillType\n",
       "0                     Spark             declared\n",
       "1                    Python             declared\n",
       "2                     Neo4j             declared\n",
       "3  Infrastructure_Platforms  declared + inferred\n",
       "4             Data_Cleaning  declared + inferred\n",
       "5           Data_Extraction             inferred\n",
       "6           Data_Collection             inferred\n",
       "7            Data_Streaming             inferred\n",
       "8             Data_Modeling             inferred\n",
       "9              Data_Imports             inferred"
      ]
     },
     "execution_count": 12,
     "metadata": {},
     "output_type": "execute_result"
    }
   ],
   "source": [
    "gds.run_cypher('''\n",
    "    MATCH personSubGraph = (per:Personnel { name : $name })-[:HAS_ACTIVE_STATUS]->(ps)-[:INVOLVED_IN]->(p:Project)-[:REQUIRED_SKILL]->(sk:Skill),\n",
    "       (per)-[DECLARED_SKILL]->(sk2:Skill)\n",
    "    WITH collect(DISTINCT sk2.name) as declaredSkills, collect(DISTINCT sk.name) AS inferredSkills\n",
    "    WITH declaredSkills, inferredSkills, inferredSkills+declaredSkills as allSkills\n",
    "    UNWIND allSkills as skill\n",
    "    WITH skill, \n",
    "        CASE\n",
    "           WHEN skill in inferredSkills AND skill in declaredSkills THEN 'declared + inferred'\n",
    "           WHEN skill in declaredSkills THEN 'declared'\n",
    "           ELSE 'inferred'\n",
    "       END AS skillType\n",
    "    RETURN DISTINCT skill, skillType ORDER BY skillType ASC\n",
    "''', params={'name': NAME})"
   ]
  },
  {
   "cell_type": "markdown",
   "id": "1c4b9ce3",
   "metadata": {},
   "source": [
    "#### Skill Hierarchy"
   ]
  },
  {
   "cell_type": "code",
   "execution_count": 13,
   "id": "c69d34da",
   "metadata": {},
   "outputs": [],
   "source": [
    "NAME = \"Neo4j\""
   ]
  },
  {
   "cell_type": "code",
   "execution_count": 14,
   "id": "7f62f185",
   "metadata": {},
   "outputs": [
    {
     "data": {
      "text/html": [
       "<div>\n",
       "<style scoped>\n",
       "    .dataframe tbody tr th:only-of-type {\n",
       "        vertical-align: middle;\n",
       "    }\n",
       "\n",
       "    .dataframe tbody tr th {\n",
       "        vertical-align: top;\n",
       "    }\n",
       "\n",
       "    .dataframe thead th {\n",
       "        text-align: right;\n",
       "    }\n",
       "</style>\n",
       "<table border=\"1\" class=\"dataframe\">\n",
       "  <thead>\n",
       "    <tr style=\"text-align: right;\">\n",
       "      <th></th>\n",
       "      <th>skill</th>\n",
       "    </tr>\n",
       "  </thead>\n",
       "  <tbody>\n",
       "    <tr>\n",
       "      <th>0</th>\n",
       "      <td>Neo4j</td>\n",
       "    </tr>\n",
       "    <tr>\n",
       "      <th>1</th>\n",
       "      <td>Graph_DBMS</td>\n",
       "    </tr>\n",
       "    <tr>\n",
       "      <th>2</th>\n",
       "      <td>DBMS</td>\n",
       "    </tr>\n",
       "  </tbody>\n",
       "</table>\n",
       "</div>"
      ],
      "text/plain": [
       "        skill\n",
       "0       Neo4j\n",
       "1  Graph_DBMS\n",
       "2        DBMS"
      ]
     },
     "execution_count": 14,
     "metadata": {},
     "output_type": "execute_result"
    }
   ],
   "source": [
    "gds.run_cypher('''\n",
    "    MATCH skillshierarchy = (:Skill {name:$name})-[:SUB_CLASS_OF*]->()\n",
    "    UNWIND nodes(skillshierarchy) as skill\n",
    "    RETURN DISTINCT skill.name AS skill\n",
    "''', params={'name': NAME})"
   ]
  },
  {
   "cell_type": "markdown",
   "id": "660282fa",
   "metadata": {},
   "source": [
    "#### Recommending people for the project based on no. co-occuring skills, leveraging skill hierarchy"
   ]
  },
  {
   "cell_type": "markdown",
   "id": "d8c48beb",
   "metadata": {},
   "source": [
    "Using Cypher and calculate overlap between required skills of the project and declared and inferred skills with scoring based on direct/indirect skills"
   ]
  },
  {
   "cell_type": "code",
   "execution_count": 15,
   "id": "9751ab60",
   "metadata": {},
   "outputs": [
    {
     "data": {
      "text/html": [
       "<div>\n",
       "<style scoped>\n",
       "    .dataframe tbody tr th:only-of-type {\n",
       "        vertical-align: middle;\n",
       "    }\n",
       "\n",
       "    .dataframe tbody tr th {\n",
       "        vertical-align: top;\n",
       "    }\n",
       "\n",
       "    .dataframe thead th {\n",
       "        text-align: right;\n",
       "    }\n",
       "</style>\n",
       "<table border=\"1\" class=\"dataframe\">\n",
       "  <thead>\n",
       "    <tr style=\"text-align: right;\">\n",
       "      <th></th>\n",
       "      <th>personName</th>\n",
       "      <th>finalScore</th>\n",
       "      <th>matchedSkills</th>\n",
       "    </tr>\n",
       "  </thead>\n",
       "  <tbody>\n",
       "    <tr>\n",
       "      <th>0</th>\n",
       "      <td>Nariko Fretson</td>\n",
       "      <td>17.000000</td>\n",
       "      <td>{'Data_Extraction': 'inferred skill', 'Data_Modeling': 'inferred skill', 'Data_Cleaning': 'inferred skill', 'Data_Streaming': 'inferred skill', 'Data_Collection': 'inferred skill', 'Data_Imports': 'inferred skill', 'APPC': 'inferred skill'}</td>\n",
       "    </tr>\n",
       "    <tr>\n",
       "      <th>1</th>\n",
       "      <td>Clayson Agget</td>\n",
       "      <td>16.666667</td>\n",
       "      <td>{'Data_Extraction': 'inferred skill', 'Data_Modeling': 'inferred skill', 'Data_Cleaning': 'inferred skill', 'Data_Streaming': 'inferred skill', 'Data_Collection': 'inferred skill', 'Data_Imports': 'inferred skill'}</td>\n",
       "    </tr>\n",
       "    <tr>\n",
       "      <th>2</th>\n",
       "      <td>Preston Kosel</td>\n",
       "      <td>13.666667</td>\n",
       "      <td>{'Data_Extraction': 'inferred skill', 'Data_Modeling': 'inferred skill', 'Data_Cleaning': 'inferred skill', 'Apple_Certified_Pro_Logic_Pro_10_3': 'inferred skill', 'Data_Collection': 'inferred skill', 'Data_Streaming': 'inferred skill', 'Freenet': 'inferred skill', 'Data_Imports': 'inferred skill'}</td>\n",
       "    </tr>\n",
       "    <tr>\n",
       "      <th>3</th>\n",
       "      <td>Fae Challiner</td>\n",
       "      <td>13.666667</td>\n",
       "      <td>{'Data_Extraction': 'inferred skill', 'Apple_Certified_Pro_Logic_Pro_10_1': 'inferred skill', 'Data_Cleaning': 'inferred skill', 'Data_Streaming': 'declared skill', 'Data_Collection': 'inferred skill', 'Data_Imports': 'inferred skill'}</td>\n",
       "    </tr>\n",
       "    <tr>\n",
       "      <th>4</th>\n",
       "      <td>Lira Alliot</td>\n",
       "      <td>12.000000</td>\n",
       "      <td>{'Data_Extraction': 'inferred skill', 'Data_Modeling': 'inferred skill', 'Apple_Certified_Pro_Logic_Pro_10_3': 'inferred skill', 'Data_Collection': 'inferred skill', 'Data_Streaming': 'inferred skill', 'Data_Cleaning': 'inferred skill', 'Freenet': 'inferred skill', 'Data_Imports': 'inferred skill'}</td>\n",
       "    </tr>\n",
       "    <tr>\n",
       "      <th>5</th>\n",
       "      <td>Libby Campbell-Dunlop</td>\n",
       "      <td>12.000000</td>\n",
       "      <td>{'Data_Extraction': 'inferred skill', 'Data_Modeling': 'inferred skill', 'Apple_Certified_Pro_Logic_Pro_10_3': 'inferred skill', 'Data_Collection': 'inferred skill', 'Data_Streaming': 'inferred skill', 'Data_Cleaning': 'inferred skill', 'Freenet': 'inferred skill', 'Data_Imports': 'inferred skill'}</td>\n",
       "    </tr>\n",
       "    <tr>\n",
       "      <th>6</th>\n",
       "      <td>Mabel Palphramand</td>\n",
       "      <td>12.000000</td>\n",
       "      <td>{'Data_Extraction': 'inferred skill', 'Data_Modeling': 'inferred skill', 'Apple_Certified_Pro_Logic_Pro_10_3': 'inferred skill', 'Data_Collection': 'inferred skill', 'Data_Streaming': 'inferred skill', 'Data_Cleaning': 'inferred skill', 'Freenet': 'inferred skill', 'Data_Imports': 'inferred skill'}</td>\n",
       "    </tr>\n",
       "    <tr>\n",
       "      <th>7</th>\n",
       "      <td>Rainer Rosini</td>\n",
       "      <td>12.000000</td>\n",
       "      <td>{'Data_Extraction': 'inferred skill', 'Data_Modeling': 'inferred skill', 'Apple_Certified_Pro_Logic_Pro_10_3': 'inferred skill', 'Data_Collection': 'inferred skill', 'Data_Streaming': 'inferred skill', 'Data_Cleaning': 'inferred skill', 'Freenet': 'inferred skill', 'Data_Imports': 'inferred skill'}</td>\n",
       "    </tr>\n",
       "    <tr>\n",
       "      <th>8</th>\n",
       "      <td>Antonina Whisker</td>\n",
       "      <td>12.000000</td>\n",
       "      <td>{'Data_Extraction': 'inferred skill', 'Data_Modeling': 'inferred skill', 'Apple_Certified_Pro_Logic_Pro_10_3': 'inferred skill', 'Data_Collection': 'inferred skill', 'Data_Streaming': 'inferred skill', 'Data_Cleaning': 'inferred skill', 'Freenet': 'inferred skill', 'Data_Imports': 'inferred skill'}</td>\n",
       "    </tr>\n",
       "    <tr>\n",
       "      <th>9</th>\n",
       "      <td>Sidney Goaks</td>\n",
       "      <td>11.666667</td>\n",
       "      <td>{'Data_Extraction': 'inferred skill', 'Data_Modeling': 'inferred skill', 'Data_Cleaning': 'inferred skill', 'Data_Collection': 'inferred skill', 'Data_Streaming': 'inferred skill', 'Data_Imports': 'inferred skill'}</td>\n",
       "    </tr>\n",
       "  </tbody>\n",
       "</table>\n",
       "</div>"
      ],
      "text/plain": [
       "              personName  finalScore  \\\n",
       "0         Nariko Fretson   17.000000   \n",
       "1          Clayson Agget   16.666667   \n",
       "2          Preston Kosel   13.666667   \n",
       "3          Fae Challiner   13.666667   \n",
       "4            Lira Alliot   12.000000   \n",
       "5  Libby Campbell-Dunlop   12.000000   \n",
       "6      Mabel Palphramand   12.000000   \n",
       "7          Rainer Rosini   12.000000   \n",
       "8       Antonina Whisker   12.000000   \n",
       "9           Sidney Goaks   11.666667   \n",
       "\n",
       "                                                                                                                                                                                                                                                                                                 matchedSkills  \n",
       "0                                                             {'Data_Extraction': 'inferred skill', 'Data_Modeling': 'inferred skill', 'Data_Cleaning': 'inferred skill', 'Data_Streaming': 'inferred skill', 'Data_Collection': 'inferred skill', 'Data_Imports': 'inferred skill', 'APPC': 'inferred skill'}  \n",
       "1                                                                                       {'Data_Extraction': 'inferred skill', 'Data_Modeling': 'inferred skill', 'Data_Cleaning': 'inferred skill', 'Data_Streaming': 'inferred skill', 'Data_Collection': 'inferred skill', 'Data_Imports': 'inferred skill'}  \n",
       "2  {'Data_Extraction': 'inferred skill', 'Data_Modeling': 'inferred skill', 'Data_Cleaning': 'inferred skill', 'Apple_Certified_Pro_Logic_Pro_10_3': 'inferred skill', 'Data_Collection': 'inferred skill', 'Data_Streaming': 'inferred skill', 'Freenet': 'inferred skill', 'Data_Imports': 'inferred skill'}  \n",
       "3                                                                  {'Data_Extraction': 'inferred skill', 'Apple_Certified_Pro_Logic_Pro_10_1': 'inferred skill', 'Data_Cleaning': 'inferred skill', 'Data_Streaming': 'declared skill', 'Data_Collection': 'inferred skill', 'Data_Imports': 'inferred skill'}  \n",
       "4  {'Data_Extraction': 'inferred skill', 'Data_Modeling': 'inferred skill', 'Apple_Certified_Pro_Logic_Pro_10_3': 'inferred skill', 'Data_Collection': 'inferred skill', 'Data_Streaming': 'inferred skill', 'Data_Cleaning': 'inferred skill', 'Freenet': 'inferred skill', 'Data_Imports': 'inferred skill'}  \n",
       "5  {'Data_Extraction': 'inferred skill', 'Data_Modeling': 'inferred skill', 'Apple_Certified_Pro_Logic_Pro_10_3': 'inferred skill', 'Data_Collection': 'inferred skill', 'Data_Streaming': 'inferred skill', 'Data_Cleaning': 'inferred skill', 'Freenet': 'inferred skill', 'Data_Imports': 'inferred skill'}  \n",
       "6  {'Data_Extraction': 'inferred skill', 'Data_Modeling': 'inferred skill', 'Apple_Certified_Pro_Logic_Pro_10_3': 'inferred skill', 'Data_Collection': 'inferred skill', 'Data_Streaming': 'inferred skill', 'Data_Cleaning': 'inferred skill', 'Freenet': 'inferred skill', 'Data_Imports': 'inferred skill'}  \n",
       "7  {'Data_Extraction': 'inferred skill', 'Data_Modeling': 'inferred skill', 'Apple_Certified_Pro_Logic_Pro_10_3': 'inferred skill', 'Data_Collection': 'inferred skill', 'Data_Streaming': 'inferred skill', 'Data_Cleaning': 'inferred skill', 'Freenet': 'inferred skill', 'Data_Imports': 'inferred skill'}  \n",
       "8  {'Data_Extraction': 'inferred skill', 'Data_Modeling': 'inferred skill', 'Apple_Certified_Pro_Logic_Pro_10_3': 'inferred skill', 'Data_Collection': 'inferred skill', 'Data_Streaming': 'inferred skill', 'Data_Cleaning': 'inferred skill', 'Freenet': 'inferred skill', 'Data_Imports': 'inferred skill'}  \n",
       "9                                                                                       {'Data_Extraction': 'inferred skill', 'Data_Modeling': 'inferred skill', 'Data_Cleaning': 'inferred skill', 'Data_Collection': 'inferred skill', 'Data_Streaming': 'inferred skill', 'Data_Imports': 'inferred skill'}  "
      ]
     },
     "execution_count": 15,
     "metadata": {},
     "output_type": "execute_result"
    }
   ],
   "source": [
    "gds.run_cypher('''\n",
    "    MATCH (p:Project)-[:REQUIRED_SKILL]->(sk) \n",
    "        WHERE p.name=$project_name\n",
    "    WITH p, collect(sk) AS requskills, COLLECT(DISTINCT sk.name) AS projectSkills  limit 1\n",
    "    CALL {\n",
    "        WITH p, requskills\n",
    "        MATCH path = (pers:Personnel)-[:DECLARED_SKILL]->(decSk)-[:SUB_CLASS_OF*0..2]->(:Skill)<-[:SUB_CLASS_OF*0..2]-(ds) where ds in requskills\n",
    "        RETURN pers.name AS personName, decSk.name AS matchedSkill, ds.name AS projectSkill, 'declared skill' AS matchType, 1.0/length(path) AS score\n",
    "    UNION\n",
    "        WITH p, requskills\n",
    "        MATCH path = (pers:Personnel)-[:HAS_ACTIVE_STATUS]->(po:PositionStatus)-[:INVOLVED_IN]-(pr:Project)-[:REQUIRED_SKILL]-(reqSk)-[:SUB_CLASS_OF*0..2]->(:Skill)<-[:SUB_CLASS_OF*0..2]-(ds) where ds in requskills\n",
    "        RETURN pers.name AS personName, reqSk.name AS matchedSkill, ds.name AS projectSkill, 'inferred skill' AS matchType, 1.0/(length(path)-2) AS score\n",
    "    }\n",
    "    RETURN DISTINCT personName, SUM(score) AS finalScore, apoc.map.fromLists(COLLECT(matchedSkill),COLLECT(matchType)) AS matchedSkills\n",
    "    ORDER BY finalScore DESC LIMIT 10\n",
    "''', params={'project_name': PROJECT})    "
   ]
  },
  {
   "cell_type": "markdown",
   "id": "814a01f4",
   "metadata": {},
   "source": [
    "## Project Similarity\n",
    "\n",
    "We can look at the which skills are declared as required for a project, and using similarity algorithm find other projects that have required similar sets of skills, we can then look at the teams that worked on those projects\n",
    "\n",
    "- project the project/skill subgraph\n",
    "- run node similarity\n",
    "- write similarity results back to the graph ()-[:SIMILAR_PROJECT {similarity_score}]->()"
   ]
  },
  {
   "cell_type": "code",
   "execution_count": 45,
   "id": "44c5efea",
   "metadata": {},
   "outputs": [],
   "source": [
    "## Gets project similarity\n",
    "projectsG, result = gds.graph.project( \n",
    "    'projectsGraph', \n",
    "    ['Skill','Project'], \n",
    "    ['REQUIRED_SKILL']\n",
    ");"
   ]
  },
  {
   "cell_type": "code",
   "execution_count": 46,
   "id": "7075c333",
   "metadata": {},
   "outputs": [],
   "source": [
    "project_similarity = gds.nodeSimilarity.stream(projectsG)"
   ]
  },
  {
   "cell_type": "code",
   "execution_count": 47,
   "id": "2dd48eb7",
   "metadata": {},
   "outputs": [
    {
     "data": {
      "text/html": [
       "<div>\n",
       "<style scoped>\n",
       "    .dataframe tbody tr th:only-of-type {\n",
       "        vertical-align: middle;\n",
       "    }\n",
       "\n",
       "    .dataframe tbody tr th {\n",
       "        vertical-align: top;\n",
       "    }\n",
       "\n",
       "    .dataframe thead th {\n",
       "        text-align: right;\n",
       "    }\n",
       "</style>\n",
       "<table border=\"1\" class=\"dataframe\">\n",
       "  <thead>\n",
       "    <tr style=\"text-align: right;\">\n",
       "      <th></th>\n",
       "      <th>node1</th>\n",
       "      <th>node2</th>\n",
       "      <th>similarity</th>\n",
       "    </tr>\n",
       "  </thead>\n",
       "  <tbody>\n",
       "    <tr>\n",
       "      <th>0</th>\n",
       "      <td>739635</td>\n",
       "      <td>739668</td>\n",
       "      <td>0.333333</td>\n",
       "    </tr>\n",
       "    <tr>\n",
       "      <th>1</th>\n",
       "      <td>739635</td>\n",
       "      <td>739636</td>\n",
       "      <td>0.333333</td>\n",
       "    </tr>\n",
       "    <tr>\n",
       "      <th>2</th>\n",
       "      <td>739635</td>\n",
       "      <td>739664</td>\n",
       "      <td>0.250000</td>\n",
       "    </tr>\n",
       "    <tr>\n",
       "      <th>3</th>\n",
       "      <td>739635</td>\n",
       "      <td>739637</td>\n",
       "      <td>0.250000</td>\n",
       "    </tr>\n",
       "    <tr>\n",
       "      <th>4</th>\n",
       "      <td>739635</td>\n",
       "      <td>739667</td>\n",
       "      <td>0.200000</td>\n",
       "    </tr>\n",
       "    <tr>\n",
       "      <th>5</th>\n",
       "      <td>739635</td>\n",
       "      <td>739666</td>\n",
       "      <td>0.200000</td>\n",
       "    </tr>\n",
       "    <tr>\n",
       "      <th>6</th>\n",
       "      <td>739635</td>\n",
       "      <td>739665</td>\n",
       "      <td>0.200000</td>\n",
       "    </tr>\n",
       "    <tr>\n",
       "      <th>7</th>\n",
       "      <td>739636</td>\n",
       "      <td>745410</td>\n",
       "      <td>0.666667</td>\n",
       "    </tr>\n",
       "    <tr>\n",
       "      <th>8</th>\n",
       "      <td>739636</td>\n",
       "      <td>743495</td>\n",
       "      <td>0.500000</td>\n",
       "    </tr>\n",
       "    <tr>\n",
       "      <th>9</th>\n",
       "      <td>739636</td>\n",
       "      <td>743206</td>\n",
       "      <td>0.500000</td>\n",
       "    </tr>\n",
       "  </tbody>\n",
       "</table>\n",
       "</div>"
      ],
      "text/plain": [
       "    node1   node2  similarity\n",
       "0  739635  739668    0.333333\n",
       "1  739635  739636    0.333333\n",
       "2  739635  739664    0.250000\n",
       "3  739635  739637    0.250000\n",
       "4  739635  739667    0.200000\n",
       "5  739635  739666    0.200000\n",
       "6  739635  739665    0.200000\n",
       "7  739636  745410    0.666667\n",
       "8  739636  743495    0.500000\n",
       "9  739636  743206    0.500000"
      ]
     },
     "execution_count": 47,
     "metadata": {},
     "output_type": "execute_result"
    }
   ],
   "source": [
    "project_similarity.head(10)"
   ]
  },
  {
   "cell_type": "code",
   "execution_count": 48,
   "id": "af3840a2",
   "metadata": {},
   "outputs": [
    {
     "data": {
      "text/plain": [
       "(5803, 218, 122)"
      ]
     },
     "execution_count": 48,
     "metadata": {},
     "output_type": "execute_result"
    }
   ],
   "source": [
    "res = gds.nodeSimilarity.write(projectsG, writeRelationshipType=\"SIMILAR_PROJECT\", writeProperty=\"similarity_score\", similarityCutoff=0.4)\n",
    "res.relationshipsWritten, res.computeMillis, res.writeMillis"
   ]
  },
  {
   "cell_type": "code",
   "execution_count": 20,
   "id": "2946ef8d",
   "metadata": {},
   "outputs": [
    {
     "data": {
      "text/html": [
       "<div>\n",
       "<style scoped>\n",
       "    .dataframe tbody tr th:only-of-type {\n",
       "        vertical-align: middle;\n",
       "    }\n",
       "\n",
       "    .dataframe tbody tr th {\n",
       "        vertical-align: top;\n",
       "    }\n",
       "\n",
       "    .dataframe thead th {\n",
       "        text-align: right;\n",
       "    }\n",
       "</style>\n",
       "<table border=\"1\" class=\"dataframe\">\n",
       "  <thead>\n",
       "    <tr style=\"text-align: right;\">\n",
       "      <th></th>\n",
       "      <th>project</th>\n",
       "      <th>score</th>\n",
       "    </tr>\n",
       "  </thead>\n",
       "  <tbody>\n",
       "    <tr>\n",
       "      <th>0</th>\n",
       "      <td>Kori bustard</td>\n",
       "      <td>0.777778</td>\n",
       "    </tr>\n",
       "    <tr>\n",
       "      <th>1</th>\n",
       "      <td>city_of_seattle_data_plattform</td>\n",
       "      <td>0.666667</td>\n",
       "    </tr>\n",
       "    <tr>\n",
       "      <th>2</th>\n",
       "      <td>Rock dove</td>\n",
       "      <td>0.545455</td>\n",
       "    </tr>\n",
       "    <tr>\n",
       "      <th>3</th>\n",
       "      <td>Cape fox</td>\n",
       "      <td>0.545455</td>\n",
       "    </tr>\n",
       "    <tr>\n",
       "      <th>4</th>\n",
       "      <td>Deer, swamp</td>\n",
       "      <td>0.400000</td>\n",
       "    </tr>\n",
       "    <tr>\n",
       "      <th>5</th>\n",
       "      <td>Owl, burrowing</td>\n",
       "      <td>0.400000</td>\n",
       "    </tr>\n",
       "    <tr>\n",
       "      <th>6</th>\n",
       "      <td>Woodpecker, red-headed</td>\n",
       "      <td>0.400000</td>\n",
       "    </tr>\n",
       "  </tbody>\n",
       "</table>\n",
       "</div>"
      ],
      "text/plain": [
       "                          project     score\n",
       "0                    Kori bustard  0.777778\n",
       "1  city_of_seattle_data_plattform  0.666667\n",
       "2                       Rock dove  0.545455\n",
       "3                        Cape fox  0.545455\n",
       "4                     Deer, swamp  0.400000\n",
       "5                  Owl, burrowing  0.400000\n",
       "6          Woodpecker, red-headed  0.400000"
      ]
     },
     "execution_count": 20,
     "metadata": {},
     "output_type": "execute_result"
    }
   ],
   "source": [
    "gds.run_cypher('''\n",
    "    MATCH (p:Project)-[r:SIMILAR_PROJECT]->(sp) \n",
    "        WHERE p.name=$project_name\n",
    "    RETURN DISTINCT sp.name AS project, r.similarity_score AS score \n",
    "        ORDER BY score DESC\n",
    "        LIMIT 10\n",
    "''', params={'project_name': PROJECT}) "
   ]
  },
  {
   "cell_type": "code",
   "execution_count": 21,
   "id": "f1bf415a",
   "metadata": {},
   "outputs": [],
   "source": [
    "res=projectsG.drop()"
   ]
  },
  {
   "cell_type": "markdown",
   "id": "e13ba56a",
   "metadata": {},
   "source": [
    "### Who has worked on top 10 most similar projects"
   ]
  },
  {
   "cell_type": "code",
   "execution_count": 22,
   "id": "a5b73675",
   "metadata": {},
   "outputs": [
    {
     "data": {
      "text/html": [
       "<div>\n",
       "<style scoped>\n",
       "    .dataframe tbody tr th:only-of-type {\n",
       "        vertical-align: middle;\n",
       "    }\n",
       "\n",
       "    .dataframe tbody tr th {\n",
       "        vertical-align: top;\n",
       "    }\n",
       "\n",
       "    .dataframe thead th {\n",
       "        text-align: right;\n",
       "    }\n",
       "</style>\n",
       "<table border=\"1\" class=\"dataframe\">\n",
       "  <thead>\n",
       "    <tr style=\"text-align: right;\">\n",
       "      <th></th>\n",
       "      <th>pos.name</th>\n",
       "      <th>no_similar</th>\n",
       "    </tr>\n",
       "  </thead>\n",
       "  <tbody>\n",
       "    <tr>\n",
       "      <th>0</th>\n",
       "      <td>Maximo Winspear</td>\n",
       "      <td>1</td>\n",
       "    </tr>\n",
       "    <tr>\n",
       "      <th>1</th>\n",
       "      <td>Crystie Glaves</td>\n",
       "      <td>1</td>\n",
       "    </tr>\n",
       "    <tr>\n",
       "      <th>2</th>\n",
       "      <td>Lizzy Humbell</td>\n",
       "      <td>1</td>\n",
       "    </tr>\n",
       "    <tr>\n",
       "      <th>3</th>\n",
       "      <td>Tadio Udall</td>\n",
       "      <td>1</td>\n",
       "    </tr>\n",
       "    <tr>\n",
       "      <th>4</th>\n",
       "      <td>Nerta Toward</td>\n",
       "      <td>1</td>\n",
       "    </tr>\n",
       "    <tr>\n",
       "      <th>...</th>\n",
       "      <td>...</td>\n",
       "      <td>...</td>\n",
       "    </tr>\n",
       "    <tr>\n",
       "      <th>37</th>\n",
       "      <td>Alexa Bartalin</td>\n",
       "      <td>1</td>\n",
       "    </tr>\n",
       "    <tr>\n",
       "      <th>38</th>\n",
       "      <td>Brandtr Brownscombe</td>\n",
       "      <td>1</td>\n",
       "    </tr>\n",
       "    <tr>\n",
       "      <th>39</th>\n",
       "      <td>Anatol Fredy</td>\n",
       "      <td>1</td>\n",
       "    </tr>\n",
       "    <tr>\n",
       "      <th>40</th>\n",
       "      <td>Viola Dunniom</td>\n",
       "      <td>1</td>\n",
       "    </tr>\n",
       "    <tr>\n",
       "      <th>41</th>\n",
       "      <td>Ewen Cretney</td>\n",
       "      <td>1</td>\n",
       "    </tr>\n",
       "  </tbody>\n",
       "</table>\n",
       "<p>42 rows × 2 columns</p>\n",
       "</div>"
      ],
      "text/plain": [
       "               pos.name  no_similar\n",
       "0       Maximo Winspear           1\n",
       "1        Crystie Glaves           1\n",
       "2         Lizzy Humbell           1\n",
       "3           Tadio Udall           1\n",
       "4          Nerta Toward           1\n",
       "..                  ...         ...\n",
       "37       Alexa Bartalin           1\n",
       "38  Brandtr Brownscombe           1\n",
       "39         Anatol Fredy           1\n",
       "40        Viola Dunniom           1\n",
       "41         Ewen Cretney           1\n",
       "\n",
       "[42 rows x 2 columns]"
      ]
     },
     "execution_count": 22,
     "metadata": {},
     "output_type": "execute_result"
    }
   ],
   "source": [
    "gds.run_cypher('''\n",
    "    MATCH (p:Project)-[r:SIMILAR_PROJECT]->(similarp) \n",
    "        WHERE p.name=$project_name\n",
    "    WITH similarp, r.similarity_score AS score \n",
    "        ORDER BY score DESC\n",
    "        LIMIT 10\n",
    "    MATCH (pos:Personnel)-[:HAS_ACTIVE_STATUS]->(ps)-[:INVOLVED_IN]->(similarp)\n",
    "    RETURN pos.name, COUNT(similarp) AS no_similar ORDER BY no_similar DESC\n",
    "''', params={'project_name': PROJECT}) "
   ]
  },
  {
   "cell_type": "markdown",
   "id": "45fc9c67",
   "metadata": {},
   "source": [
    "## Influential People\n",
    "\n",
    "Centrality algorithms can help see how influential people are, this might help us by assigning someone with good connectivity to the rest of the organization who might be able to remove roadblocks, or alternatively we could look for lower centrality if we want to help them connect to broader teams"
   ]
  },
  {
   "cell_type": "markdown",
   "id": "5620bf6a",
   "metadata": {},
   "source": [
    "- Using Cypher we can see who has worked together in the past and on how many projects\n",
    "- We can reshape the subgraph using Cypher creating a summary relationship between people using the no. projects as a weighting\n",
    "- Run centrality algorithm and write score back to the Personnel nodes\n",
    "- rank the candidates working on similar projects based on their centrality score"
   ]
  },
  {
   "cell_type": "code",
   "execution_count": 23,
   "id": "60e58af5",
   "metadata": {},
   "outputs": [
    {
     "data": {
      "text/html": [
       "<div>\n",
       "<style scoped>\n",
       "    .dataframe tbody tr th:only-of-type {\n",
       "        vertical-align: middle;\n",
       "    }\n",
       "\n",
       "    .dataframe tbody tr th {\n",
       "        vertical-align: top;\n",
       "    }\n",
       "\n",
       "    .dataframe thead th {\n",
       "        text-align: right;\n",
       "    }\n",
       "</style>\n",
       "<table border=\"1\" class=\"dataframe\">\n",
       "  <thead>\n",
       "    <tr style=\"text-align: right;\">\n",
       "      <th></th>\n",
       "      <th>person1.name</th>\n",
       "      <th>person2.name</th>\n",
       "      <th>weight</th>\n",
       "    </tr>\n",
       "  </thead>\n",
       "  <tbody>\n",
       "    <tr>\n",
       "      <th>0</th>\n",
       "      <td>Leonanie Boshere</td>\n",
       "      <td>Bertha Dillimore</td>\n",
       "      <td>2</td>\n",
       "    </tr>\n",
       "    <tr>\n",
       "      <th>1</th>\n",
       "      <td>Zared Dorot</td>\n",
       "      <td>Herbie Castellaccio</td>\n",
       "      <td>2</td>\n",
       "    </tr>\n",
       "    <tr>\n",
       "      <th>2</th>\n",
       "      <td>Tully Clutram</td>\n",
       "      <td>Bertha Dillimore</td>\n",
       "      <td>2</td>\n",
       "    </tr>\n",
       "    <tr>\n",
       "      <th>3</th>\n",
       "      <td>Ludwig Dight</td>\n",
       "      <td>Herbie Castellaccio</td>\n",
       "      <td>2</td>\n",
       "    </tr>\n",
       "    <tr>\n",
       "      <th>4</th>\n",
       "      <td>Herbie Castellaccio</td>\n",
       "      <td>Gregoire Bosenworth</td>\n",
       "      <td>2</td>\n",
       "    </tr>\n",
       "    <tr>\n",
       "      <th>...</th>\n",
       "      <td>...</td>\n",
       "      <td>...</td>\n",
       "      <td>...</td>\n",
       "    </tr>\n",
       "    <tr>\n",
       "      <th>29895</th>\n",
       "      <td>Ky Houndsom</td>\n",
       "      <td>Deane Champion</td>\n",
       "      <td>1</td>\n",
       "    </tr>\n",
       "    <tr>\n",
       "      <th>29896</th>\n",
       "      <td>Ky Houndsom</td>\n",
       "      <td>Nobe Sprade</td>\n",
       "      <td>1</td>\n",
       "    </tr>\n",
       "    <tr>\n",
       "      <th>29897</th>\n",
       "      <td>Ky Houndsom</td>\n",
       "      <td>Gale Shipp</td>\n",
       "      <td>1</td>\n",
       "    </tr>\n",
       "    <tr>\n",
       "      <th>29898</th>\n",
       "      <td>Ky Houndsom</td>\n",
       "      <td>Lenka Shelvey</td>\n",
       "      <td>1</td>\n",
       "    </tr>\n",
       "    <tr>\n",
       "      <th>29899</th>\n",
       "      <td>Tallia Northbridge</td>\n",
       "      <td>Branden Wrathmall</td>\n",
       "      <td>1</td>\n",
       "    </tr>\n",
       "  </tbody>\n",
       "</table>\n",
       "<p>29900 rows × 3 columns</p>\n",
       "</div>"
      ],
      "text/plain": [
       "              person1.name         person2.name  weight\n",
       "0         Leonanie Boshere     Bertha Dillimore       2\n",
       "1              Zared Dorot  Herbie Castellaccio       2\n",
       "2            Tully Clutram     Bertha Dillimore       2\n",
       "3             Ludwig Dight  Herbie Castellaccio       2\n",
       "4      Herbie Castellaccio  Gregoire Bosenworth       2\n",
       "...                    ...                  ...     ...\n",
       "29895          Ky Houndsom       Deane Champion       1\n",
       "29896          Ky Houndsom          Nobe Sprade       1\n",
       "29897          Ky Houndsom           Gale Shipp       1\n",
       "29898          Ky Houndsom        Lenka Shelvey       1\n",
       "29899   Tallia Northbridge    Branden Wrathmall       1\n",
       "\n",
       "[29900 rows x 3 columns]"
      ]
     },
     "execution_count": 23,
     "metadata": {},
     "output_type": "execute_result"
    }
   ],
   "source": [
    "gds.run_cypher('''\n",
    "MATCH (person1:Personnel)-[:HAS_HISTORY]->()-[:INVOLVED_IN]->(project)<-[:INVOLVED_IN]-()<-[:HAS_HISTORY]-(person2:Personnel)\n",
    "    WHERE ID(person1) <> ID(person2)\n",
    "RETURN person1.name, person2.name, count(project) AS weight ORDER BY weight DESC\n",
    "''')"
   ]
  },
  {
   "cell_type": "code",
   "execution_count": 24,
   "id": "2b3e4ee3",
   "metadata": {},
   "outputs": [
    {
     "data": {
      "text/plain": [
       "('workedtogether', 30001, 29900, 401)"
      ]
     },
     "execution_count": 24,
     "metadata": {},
     "output_type": "execute_result"
    }
   ],
   "source": [
    "workedtogetherG, res = gds.graph.project.cypher('workedtogether',\n",
    "    'MATCH (n:Personnel) RETURN id(n) as id',\n",
    "    '''MATCH (person1:Personnel)-[:HAS_HISTORY]->()-[:INVOLVED_IN]->(project)<-[:INVOLVED_IN]-()<-[:HAS_HISTORY]-(person2:Personnel) \n",
    "       WHERE ID(person1) <> ID(person2) \n",
    "       RETURN ID(person1) as source, ID(person2) as target, count(project) as weight'''\n",
    ")\n",
    "res.graphName, res.nodeCount, res.relationshipCount, res.projectMillis"
   ]
  },
  {
   "cell_type": "code",
   "execution_count": 25,
   "id": "af4ad7a6",
   "metadata": {},
   "outputs": [
    {
     "data": {
      "application/vnd.jupyter.widget-view+json": {
       "model_id": "36f584b8ae9447f7ac9869996e255278",
       "version_major": 2,
       "version_minor": 0
      },
      "text/plain": [
       "PageRank:   0%|          | 0/100 [00:00<?, ?%/s]"
      ]
     },
     "metadata": {},
     "output_type": "display_data"
    }
   ],
   "source": [
    "res=gds.pageRank.write(workedtogetherG,relationshipWeightProperty='weight',writeProperty='pagerank')"
   ]
  },
  {
   "cell_type": "code",
   "execution_count": 26,
   "id": "b07c7d66",
   "metadata": {},
   "outputs": [
    {
     "data": {
      "text/html": [
       "<div>\n",
       "<style scoped>\n",
       "    .dataframe tbody tr th:only-of-type {\n",
       "        vertical-align: middle;\n",
       "    }\n",
       "\n",
       "    .dataframe tbody tr th {\n",
       "        vertical-align: top;\n",
       "    }\n",
       "\n",
       "    .dataframe thead th {\n",
       "        text-align: right;\n",
       "    }\n",
       "</style>\n",
       "<table border=\"1\" class=\"dataframe\">\n",
       "  <thead>\n",
       "    <tr style=\"text-align: right;\">\n",
       "      <th></th>\n",
       "      <th>name</th>\n",
       "      <th>pageRank</th>\n",
       "      <th>no_similar</th>\n",
       "    </tr>\n",
       "  </thead>\n",
       "  <tbody>\n",
       "    <tr>\n",
       "      <th>0</th>\n",
       "      <td>Ewen Cretney</td>\n",
       "      <td>2.082453</td>\n",
       "      <td>1</td>\n",
       "    </tr>\n",
       "    <tr>\n",
       "      <th>1</th>\n",
       "      <td>Berk Knappitt</td>\n",
       "      <td>1.655437</td>\n",
       "      <td>1</td>\n",
       "    </tr>\n",
       "    <tr>\n",
       "      <th>2</th>\n",
       "      <td>Nariko Fretson</td>\n",
       "      <td>1.655437</td>\n",
       "      <td>1</td>\n",
       "    </tr>\n",
       "    <tr>\n",
       "      <th>3</th>\n",
       "      <td>Clayson Agget</td>\n",
       "      <td>1.519260</td>\n",
       "      <td>1</td>\n",
       "    </tr>\n",
       "    <tr>\n",
       "      <th>4</th>\n",
       "      <td>Cortie Hatchman</td>\n",
       "      <td>1.499325</td>\n",
       "      <td>1</td>\n",
       "    </tr>\n",
       "    <tr>\n",
       "      <th>...</th>\n",
       "      <td>...</td>\n",
       "      <td>...</td>\n",
       "      <td>...</td>\n",
       "    </tr>\n",
       "    <tr>\n",
       "      <th>37</th>\n",
       "      <td>Brandtr Brownscombe</td>\n",
       "      <td>0.787805</td>\n",
       "      <td>1</td>\n",
       "    </tr>\n",
       "    <tr>\n",
       "      <th>38</th>\n",
       "      <td>Anatol Fredy</td>\n",
       "      <td>0.787805</td>\n",
       "      <td>1</td>\n",
       "    </tr>\n",
       "    <tr>\n",
       "      <th>39</th>\n",
       "      <td>Crystie Glaves</td>\n",
       "      <td>0.759949</td>\n",
       "      <td>1</td>\n",
       "    </tr>\n",
       "    <tr>\n",
       "      <th>40</th>\n",
       "      <td>Tadio Udall</td>\n",
       "      <td>0.759949</td>\n",
       "      <td>1</td>\n",
       "    </tr>\n",
       "    <tr>\n",
       "      <th>41</th>\n",
       "      <td>Nerta Toward</td>\n",
       "      <td>0.759949</td>\n",
       "      <td>1</td>\n",
       "    </tr>\n",
       "  </tbody>\n",
       "</table>\n",
       "<p>42 rows × 3 columns</p>\n",
       "</div>"
      ],
      "text/plain": [
       "                   name  pageRank  no_similar\n",
       "0          Ewen Cretney  2.082453           1\n",
       "1         Berk Knappitt  1.655437           1\n",
       "2        Nariko Fretson  1.655437           1\n",
       "3         Clayson Agget  1.519260           1\n",
       "4       Cortie Hatchman  1.499325           1\n",
       "..                  ...       ...         ...\n",
       "37  Brandtr Brownscombe  0.787805           1\n",
       "38         Anatol Fredy  0.787805           1\n",
       "39       Crystie Glaves  0.759949           1\n",
       "40          Tadio Udall  0.759949           1\n",
       "41         Nerta Toward  0.759949           1\n",
       "\n",
       "[42 rows x 3 columns]"
      ]
     },
     "execution_count": 26,
     "metadata": {},
     "output_type": "execute_result"
    }
   ],
   "source": [
    "gds.run_cypher('''\n",
    "    MATCH (p:Project)-[r:SIMILAR_PROJECT]->(similarp) \n",
    "        WHERE p.name=$project_name\n",
    "    WITH similarp, r.similarity_score AS score \n",
    "        ORDER BY score DESC\n",
    "        LIMIT 10\n",
    "    MATCH (pos:Personnel)-[:HAS_ACTIVE_STATUS]->(ps)-[:INVOLVED_IN]->(similarp)\n",
    "    RETURN pos.name as name, pos.pagerank as pageRank, COUNT(similarp) AS no_similar ORDER BY pageRank DESC\n",
    "''', params={'project_name': PROJECT}) "
   ]
  },
  {
   "cell_type": "code",
   "execution_count": 27,
   "id": "8eca2c76",
   "metadata": {},
   "outputs": [
    {
     "data": {
      "text/plain": [
       "'workedtogether'"
      ]
     },
     "execution_count": 27,
     "metadata": {},
     "output_type": "execute_result"
    }
   ],
   "source": [
    "res=workedtogetherG.drop()\n",
    "res.graphName"
   ]
  },
  {
   "cell_type": "markdown",
   "id": "b800978f",
   "metadata": {},
   "source": [
    "## Community of Practice\n",
    "\n",
    "If we want to find people who can help on projects, we can use community algorithms to find communities of people based on no. shared skills\n",
    "- Project a reshaped subgraph using Cypher creating a summary relationship between people using the no. shared skills as a weighting\n",
    "- run community detection and write communities back to the graph\n"
   ]
  },
  {
   "cell_type": "markdown",
   "id": "aa81ecdd",
   "metadata": {},
   "source": [
    "<div>\n",
    "<img src=\"img/louvain-intermediate.png\" width=\"500\"/>\n",
    "</div>"
   ]
  },
  {
   "cell_type": "code",
   "execution_count": 28,
   "id": "6d6a5c1a",
   "metadata": {},
   "outputs": [
    {
     "data": {
      "application/vnd.jupyter.widget-view+json": {
       "model_id": "36d7984799954bb49df4f6190575edd6",
       "version_major": 2,
       "version_minor": 0
      },
      "text/plain": [
       "Loading:   0%|          | 0/100 [00:00<?, ?%/s]"
      ]
     },
     "metadata": {},
     "output_type": "display_data"
    },
    {
     "data": {
      "text/plain": [
       "('sharedskills', 30001, 29900, 474)"
      ]
     },
     "execution_count": 28,
     "metadata": {},
     "output_type": "execute_result"
    }
   ],
   "source": [
    "sharedskillsG, res = gds.graph.project.cypher('sharedskills',\n",
    "    'MATCH (n:Personnel) RETURN id(n) as id',\n",
    "    '''MATCH (person1:Personnel)-[:HAS_HISTORY]->()-[:INVOLVED_IN]->(project)<-[:INVOLVED_IN]-()<-[:HAS_HISTORY]-(person2:Personnel)\n",
    "       OPTIONAL MATCH (project)-[:REQUIRED_SKILL]->(skill)\n",
    "       WHERE ID(person1) <> ID(person2) \n",
    "       RETURN ID(person1) as source, ID(person2) as target, count(skill) as weight'''\n",
    ")\n",
    "res.graphName, res.nodeCount, res.relationshipCount, res.projectMillis"
   ]
  },
  {
   "cell_type": "code",
   "execution_count": 29,
   "id": "ad3f1fe7",
   "metadata": {},
   "outputs": [
    {
     "data": {
      "application/vnd.jupyter.widget-view+json": {
       "model_id": "ea99b34c7f544f498ca61ad3dc73c356",
       "version_major": 2,
       "version_minor": 0
      },
      "text/plain": [
       "Louvain:   0%|          | 0/100 [00:00<?, ?%/s]"
      ]
     },
     "metadata": {},
     "output_type": "display_data"
    }
   ],
   "source": [
    "communities=gds.louvain.stream(sharedskillsG, relationshipWeightProperty='weight')"
   ]
  },
  {
   "cell_type": "code",
   "execution_count": 30,
   "id": "0c9b3ec4",
   "metadata": {},
   "outputs": [
    {
     "data": {
      "text/html": [
       "<div>\n",
       "<style scoped>\n",
       "    .dataframe tbody tr th:only-of-type {\n",
       "        vertical-align: middle;\n",
       "    }\n",
       "\n",
       "    .dataframe tbody tr th {\n",
       "        vertical-align: top;\n",
       "    }\n",
       "\n",
       "    .dataframe thead th {\n",
       "        text-align: right;\n",
       "    }\n",
       "</style>\n",
       "<table border=\"1\" class=\"dataframe\">\n",
       "  <thead>\n",
       "    <tr style=\"text-align: right;\">\n",
       "      <th></th>\n",
       "      <th>communityId</th>\n",
       "      <th>Count</th>\n",
       "    </tr>\n",
       "  </thead>\n",
       "  <tbody>\n",
       "    <tr>\n",
       "      <th>17364</th>\n",
       "      <td>20796</td>\n",
       "      <td>161</td>\n",
       "    </tr>\n",
       "    <tr>\n",
       "      <th>19211</th>\n",
       "      <td>22983</td>\n",
       "      <td>134</td>\n",
       "    </tr>\n",
       "    <tr>\n",
       "      <th>13899</th>\n",
       "      <td>16693</td>\n",
       "      <td>129</td>\n",
       "    </tr>\n",
       "    <tr>\n",
       "      <th>12247</th>\n",
       "      <td>14788</td>\n",
       "      <td>125</td>\n",
       "    </tr>\n",
       "    <tr>\n",
       "      <th>11006</th>\n",
       "      <td>13349</td>\n",
       "      <td>119</td>\n",
       "    </tr>\n",
       "    <tr>\n",
       "      <th>11038</th>\n",
       "      <td>13385</td>\n",
       "      <td>116</td>\n",
       "    </tr>\n",
       "    <tr>\n",
       "      <th>11433</th>\n",
       "      <td>13843</td>\n",
       "      <td>114</td>\n",
       "    </tr>\n",
       "    <tr>\n",
       "      <th>19893</th>\n",
       "      <td>23813</td>\n",
       "      <td>111</td>\n",
       "    </tr>\n",
       "    <tr>\n",
       "      <th>11252</th>\n",
       "      <td>13626</td>\n",
       "      <td>110</td>\n",
       "    </tr>\n",
       "    <tr>\n",
       "      <th>11922</th>\n",
       "      <td>14424</td>\n",
       "      <td>103</td>\n",
       "    </tr>\n",
       "  </tbody>\n",
       "</table>\n",
       "</div>"
      ],
      "text/plain": [
       "       communityId  Count\n",
       "17364        20796    161\n",
       "19211        22983    134\n",
       "13899        16693    129\n",
       "12247        14788    125\n",
       "11006        13349    119\n",
       "11038        13385    116\n",
       "11433        13843    114\n",
       "19893        23813    111\n",
       "11252        13626    110\n",
       "11922        14424    103"
      ]
     },
     "execution_count": 30,
     "metadata": {},
     "output_type": "execute_result"
    }
   ],
   "source": [
    "communities.groupby(['communityId'])['nodeId'].count().reset_index(\n",
    "  name='Count').sort_values(['Count'], ascending=False).head(10)"
   ]
  },
  {
   "cell_type": "code",
   "execution_count": 31,
   "id": "b68a4582",
   "metadata": {},
   "outputs": [
    {
     "data": {
      "text/plain": [
       "'sharedskills'"
      ]
     },
     "execution_count": 31,
     "metadata": {},
     "output_type": "execute_result"
    }
   ],
   "source": [
    "res=sharedskillsG.drop()\n",
    "res.graphName"
   ]
  },
  {
   "cell_type": "markdown",
   "id": "61f98422",
   "metadata": {},
   "source": [
    "### Similar People "
   ]
  },
  {
   "cell_type": "markdown",
   "id": "9905691e",
   "metadata": {},
   "source": [
    "To find similar people based on their skill set so that if someone moves off a project we can fill the skill gap\n",
    "- Write Person-Skill relationships with weightings based on declared and inferred skills\n",
    "- Run Node embedding algorithm\n",
    "- Run K-Nearest Neighbours to estimate similarity in skillset and write a new relationship to the graph"
   ]
  },
  {
   "cell_type": "code",
   "execution_count": 32,
   "id": "ae29276a",
   "metadata": {},
   "outputs": [
    {
     "data": {
      "text/html": [
       "<div>\n",
       "<style scoped>\n",
       "    .dataframe tbody tr th:only-of-type {\n",
       "        vertical-align: middle;\n",
       "    }\n",
       "\n",
       "    .dataframe tbody tr th {\n",
       "        vertical-align: top;\n",
       "    }\n",
       "\n",
       "    .dataframe thead th {\n",
       "        text-align: right;\n",
       "    }\n",
       "</style>\n",
       "<table border=\"1\" class=\"dataframe\">\n",
       "  <thead>\n",
       "    <tr style=\"text-align: right;\">\n",
       "      <th></th>\n",
       "    </tr>\n",
       "  </thead>\n",
       "  <tbody>\n",
       "  </tbody>\n",
       "</table>\n",
       "</div>"
      ],
      "text/plain": [
       "Empty DataFrame\n",
       "Columns: []\n",
       "Index: []"
      ]
     },
     "execution_count": 32,
     "metadata": {},
     "output_type": "execute_result"
    }
   ],
   "source": [
    "gds.run_cypher('''\n",
    "    MATCH personSubGraph = (per:Personnel)-[:HAS_ACTIVE_STATUS]->(ps)-[:INVOLVED_IN]->(p:Project)-[:REQUIRED_SKILL]->(sk:Skill)\n",
    "    OPTIONAL MATCH (per)-[DECLARED_SKILL]->(sk2:Skill)\n",
    "    WITH collect(DISTINCT sk2) as declaredSkills, collect(DISTINCT sk) AS inferredSkills, per\n",
    "    WITH declaredSkills, inferredSkills, inferredSkills+declaredSkills as allSkills, per\n",
    "    UNWIND allSkills as skill\n",
    "    WITH skill, \n",
    "        CASE\n",
    "           WHEN skill in inferredSkills AND skill in declaredSkills THEN 0.5\n",
    "           WHEN skill in declaredSkills THEN 0.4\n",
    "           ELSE 0.2\n",
    "       END AS skillWeight, per\n",
    "    CREATE (per)-[:HAS_SKILL {weight:skillWeight}]->(skill)\n",
    "''')"
   ]
  },
  {
   "cell_type": "code",
   "execution_count": 33,
   "id": "cf10ccf7",
   "metadata": {
    "pycharm": {
     "name": "#%%\n"
    }
   },
   "outputs": [],
   "source": [
    "peopleskillsG, res = gds.graph.project('peopleskills',     \n",
    "    ['Personnel','Skill'], \n",
    "    { 'HAS_SKILL': {\n",
    "        'orientation':'UNDIRECTED',\n",
    "        'properties': {'weight': {'property': 'weight', 'defaultValue': 1.0}}\n",
    "    }}\n",
    ")"
   ]
  },
  {
   "cell_type": "markdown",
   "id": "acfaaaea",
   "metadata": {},
   "source": [
    "### FastRP\n",
    "When running FastRP we will make sure to include the relationship weight property."
   ]
  },
  {
   "cell_type": "code",
   "execution_count": 34,
   "id": "7158bfc4",
   "metadata": {
    "pycharm": {
     "name": "#%%\n"
    }
   },
   "outputs": [],
   "source": [
    "gds.fastRP.mutate(peopleskillsG, mutateProperty='embedding', embeddingDimension=256, randomSeed=7474, relationshipWeightProperty='weight');"
   ]
  },
  {
   "cell_type": "code",
   "execution_count": 35,
   "id": "0d5784f4",
   "metadata": {},
   "outputs": [
    {
     "data": {
      "text/plain": [
       "writeMillis                   826\n",
       "graphName            peopleskills\n",
       "nodeProperties        [embedding]\n",
       "propertiesWritten           30001\n",
       "Name: 0, dtype: object"
      ]
     },
     "execution_count": 35,
     "metadata": {},
     "output_type": "execute_result"
    }
   ],
   "source": [
    "gds.graph.writeNodeProperties(peopleskillsG, [\"embedding\"], [\"Personnel\"])"
   ]
  },
  {
   "cell_type": "markdown",
   "id": "1b46519e",
   "metadata": {},
   "source": [
    "If you are curious this is what the embeddings look like, they are just vectors of floating point numbers. In this case they are are 256 numbers long as specified in the `embeddingDimension` parameter above."
   ]
  },
  {
   "cell_type": "code",
   "execution_count": 36,
   "id": "6e81ab9f",
   "metadata": {},
   "outputs": [],
   "source": [
    "#gds.run_cypher('MATCH (n:Personnel) RETURN n.name, n.embedding LIMIT 3')"
   ]
  },
  {
   "cell_type": "markdown",
   "id": "74444f77",
   "metadata": {},
   "source": [
    "### K-Nearest-Neighbors (KNN)\n",
    "We can now run KNN to estimate similarity (a.k.a. `SIMILAR SKILLSET`) and write them back to the graph."
   ]
  },
  {
   "cell_type": "code",
   "execution_count": 37,
   "id": "67d97d02",
   "metadata": {},
   "outputs": [
    {
     "data": {
      "text/plain": [
       "nodeProjection            {'Personnel': {'label': 'Personnel', 'properties': {'embedding': {'defaultValue': None, 'property': 'embedding'}}}}\n",
       "relationshipProjection                       {'__ALL__': {'orientation': 'NATURAL', 'aggregation': 'DEFAULT', 'type': '*', 'properties': {}}}\n",
       "graphName                                                                                                                       cf-projection\n",
       "nodeCount                                                                                                                               30001\n",
       "relationshipCount                                                                                                                           0\n",
       "projectMillis                                                                                                                             195\n",
       "Name: 0, dtype: object"
      ]
     },
     "execution_count": 37,
     "metadata": {},
     "output_type": "execute_result"
    }
   ],
   "source": [
    "g1, res = gds.graph.project('cf-projection', {'Personnel':{'properties':['embedding']}},'*')\n",
    "res"
   ]
  },
  {
   "cell_type": "code",
   "execution_count": 38,
   "id": "a570b00c",
   "metadata": {
    "pycharm": {
     "name": "#%%\n"
    }
   },
   "outputs": [
    {
     "data": {
      "application/vnd.jupyter.widget-view+json": {
       "model_id": "8d6712da9612484f930f2fb0854bf56c",
       "version_major": 2,
       "version_minor": 0
      },
      "text/plain": [
       "Knn:   0%|          | 0/100 [00:00<?, ?%/s]"
      ]
     },
     "metadata": {},
     "output_type": "display_data"
    }
   ],
   "source": [
    "knn_stats_df = gds.knn.write(g1, nodeProperties=['embedding'],\n",
    "    writeRelationshipType='SIMILAR_SKILLSET',\n",
    "    writeProperty='score',\n",
    "    sampleRate=1.0,\n",
    "    maxIterations=1000);"
   ]
  },
  {
   "cell_type": "markdown",
   "id": "8c04cd41",
   "metadata": {},
   "source": [
    "Below we can see statistics related to algorithm convergence, compute and write time, the number of nodes compared, pairs considered, and relationships written. KNN is actually very well optimized in GDS and uses sophisticated sampling and parallelization techniques under the hood to make it more computationally efficient and highly scalable. See the [documentation](https://neo4j.com/docs/graph-data-science/current/algorithms/knn/) for more details if interested."
   ]
  },
  {
   "cell_type": "code",
   "execution_count": 39,
   "id": "17a764b8",
   "metadata": {},
   "outputs": [
    {
     "data": {
      "text/plain": [
       "didConverge                 True\n",
       "ranIterations                  7\n",
       "computeMillis               2330\n",
       "writeMillis                 4880\n",
       "nodesCompared              30001\n",
       "nodePairsConsidered     22450902\n",
       "relationshipsWritten      300010\n",
       "Name: 0, dtype: object"
      ]
     },
     "execution_count": 39,
     "metadata": {},
     "output_type": "execute_result"
    }
   ],
   "source": [
    "knn_stats_df[['didConverge',\n",
    "              'ranIterations',\n",
    "              'computeMillis',\n",
    "              'writeMillis',\n",
    "              'nodesCompared',\n",
    "              'nodePairsConsidered',\n",
    "              'relationshipsWritten']]"
   ]
  },
  {
   "cell_type": "markdown",
   "id": "404c066c",
   "metadata": {},
   "source": [
    "KNN relationships are only written when a positive similarity is found between node pairs which, in this case, is based on [cosine similarity](https://neo4j.com/docs/graph-data-science/current/alpha-algorithms/cosine/) between the `nodeWeightProperty` values of each node. here we are using the FastRP embedding as the `nodeWeightProperty`. We can see a distribution of those similarity scores below."
   ]
  },
  {
   "cell_type": "code",
   "execution_count": 40,
   "id": "d8403922",
   "metadata": {},
   "outputs": [
    {
     "data": {
      "text/plain": [
       "{'p1': 0.0,\n",
       " 'max': 1.0000038146972656,\n",
       " 'p5': 0.0,\n",
       " 'p90': 0.9274826049804688,\n",
       " 'p50': 0.0,\n",
       " 'p95': 1.0000038146972656,\n",
       " 'p10': 0.0,\n",
       " 'p75': 0.0,\n",
       " 'p99': 1.0000038146972656,\n",
       " 'p25': 0.0,\n",
       " 'p100': 1.0000038146972656,\n",
       " 'min': 0.0,\n",
       " 'mean': 0.15926897130264114,\n",
       " 'stdDev': 0.3536738838228451}"
      ]
     },
     "execution_count": 40,
     "metadata": {},
     "output_type": "execute_result"
    }
   ],
   "source": [
    "knn_stats_df.similarityDistribution"
   ]
  },
  {
   "cell_type": "code",
   "execution_count": 41,
   "id": "9eb8a53b",
   "metadata": {},
   "outputs": [],
   "source": [
    "res = peopleskillsG.drop()"
   ]
  },
  {
   "cell_type": "markdown",
   "id": "24f5beb2",
   "metadata": {},
   "source": [
    "### Let's see who could substitute for Sidney"
   ]
  },
  {
   "cell_type": "code",
   "execution_count": 42,
   "id": "c2cab4a1",
   "metadata": {},
   "outputs": [],
   "source": [
    "NAME = \"Sidney Goaks\" "
   ]
  },
  {
   "cell_type": "code",
   "execution_count": 43,
   "id": "6a7e705b",
   "metadata": {},
   "outputs": [
    {
     "data": {
      "text/html": [
       "<div>\n",
       "<style scoped>\n",
       "    .dataframe tbody tr th:only-of-type {\n",
       "        vertical-align: middle;\n",
       "    }\n",
       "\n",
       "    .dataframe tbody tr th {\n",
       "        vertical-align: top;\n",
       "    }\n",
       "\n",
       "    .dataframe thead th {\n",
       "        text-align: right;\n",
       "    }\n",
       "</style>\n",
       "<table border=\"1\" class=\"dataframe\">\n",
       "  <thead>\n",
       "    <tr style=\"text-align: right;\">\n",
       "      <th></th>\n",
       "      <th>name</th>\n",
       "      <th>substitute</th>\n",
       "      <th>score</th>\n",
       "    </tr>\n",
       "  </thead>\n",
       "  <tbody>\n",
       "    <tr>\n",
       "      <th>0</th>\n",
       "      <td>Sidney Goaks</td>\n",
       "      <td>Whitman Citrine</td>\n",
       "      <td>0.959164</td>\n",
       "    </tr>\n",
       "    <tr>\n",
       "      <th>1</th>\n",
       "      <td>Sidney Goaks</td>\n",
       "      <td>Chevy Lismer</td>\n",
       "      <td>0.959164</td>\n",
       "    </tr>\n",
       "    <tr>\n",
       "      <th>2</th>\n",
       "      <td>Sidney Goaks</td>\n",
       "      <td>Nathanial Warham</td>\n",
       "      <td>0.959164</td>\n",
       "    </tr>\n",
       "    <tr>\n",
       "      <th>3</th>\n",
       "      <td>Sidney Goaks</td>\n",
       "      <td>Sibylle Tulley</td>\n",
       "      <td>0.959164</td>\n",
       "    </tr>\n",
       "    <tr>\n",
       "      <th>4</th>\n",
       "      <td>Sidney Goaks</td>\n",
       "      <td>Banky Sancroft</td>\n",
       "      <td>0.959164</td>\n",
       "    </tr>\n",
       "    <tr>\n",
       "      <th>5</th>\n",
       "      <td>Sidney Goaks</td>\n",
       "      <td>Samson Wegener</td>\n",
       "      <td>0.956930</td>\n",
       "    </tr>\n",
       "    <tr>\n",
       "      <th>6</th>\n",
       "      <td>Sidney Goaks</td>\n",
       "      <td>Cad Syrett</td>\n",
       "      <td>0.956930</td>\n",
       "    </tr>\n",
       "    <tr>\n",
       "      <th>7</th>\n",
       "      <td>Sidney Goaks</td>\n",
       "      <td>Maurise Niessen</td>\n",
       "      <td>0.956930</td>\n",
       "    </tr>\n",
       "    <tr>\n",
       "      <th>8</th>\n",
       "      <td>Sidney Goaks</td>\n",
       "      <td>Jack Caunce</td>\n",
       "      <td>0.956930</td>\n",
       "    </tr>\n",
       "    <tr>\n",
       "      <th>9</th>\n",
       "      <td>Sidney Goaks</td>\n",
       "      <td>Suzy Durnford</td>\n",
       "      <td>0.956930</td>\n",
       "    </tr>\n",
       "  </tbody>\n",
       "</table>\n",
       "</div>"
      ],
      "text/plain": [
       "           name        substitute     score\n",
       "0  Sidney Goaks   Whitman Citrine  0.959164\n",
       "1  Sidney Goaks      Chevy Lismer  0.959164\n",
       "2  Sidney Goaks  Nathanial Warham  0.959164\n",
       "3  Sidney Goaks    Sibylle Tulley  0.959164\n",
       "4  Sidney Goaks    Banky Sancroft  0.959164\n",
       "5  Sidney Goaks    Samson Wegener  0.956930\n",
       "6  Sidney Goaks        Cad Syrett  0.956930\n",
       "7  Sidney Goaks   Maurise Niessen  0.956930\n",
       "8  Sidney Goaks       Jack Caunce  0.956930\n",
       "9  Sidney Goaks     Suzy Durnford  0.956930"
      ]
     },
     "execution_count": 43,
     "metadata": {},
     "output_type": "execute_result"
    }
   ],
   "source": [
    "gds.run_cypher('''\n",
    "    MATCH (per:Personnel {name:$name})-[sk:SIMILAR_SKILLSET]->(per2)\n",
    "    RETURN per.name AS name, per2.name AS substitute, sk.score AS score ORDER BY score DESC LIMIT 10\n",
    "''', params={'name': NAME})"
   ]
  },
  {
   "cell_type": "markdown",
   "id": "ba12afd3",
   "metadata": {},
   "source": [
    "### Bloom Screenshot showing people who worked on similar projects and their centrality score"
   ]
  },
  {
   "cell_type": "markdown",
   "id": "3a49c33f",
   "metadata": {},
   "source": [
    "![PeopleWorkedSimilarProjectsCentrality.png](img/PeopleWorkedSimilarProjectsCentrality.png)"
   ]
  },
  {
   "cell_type": "markdown",
   "id": "9e23f29f",
   "metadata": {},
   "source": [
    "## Tidy up"
   ]
  },
  {
   "cell_type": "code",
   "execution_count": 44,
   "id": "416aee45",
   "metadata": {},
   "outputs": [
    {
     "data": {
      "text/html": [
       "<div>\n",
       "<style scoped>\n",
       "    .dataframe tbody tr th:only-of-type {\n",
       "        vertical-align: middle;\n",
       "    }\n",
       "\n",
       "    .dataframe tbody tr th {\n",
       "        vertical-align: top;\n",
       "    }\n",
       "\n",
       "    .dataframe thead th {\n",
       "        text-align: right;\n",
       "    }\n",
       "</style>\n",
       "<table border=\"1\" class=\"dataframe\">\n",
       "  <thead>\n",
       "    <tr style=\"text-align: right;\">\n",
       "      <th></th>\n",
       "    </tr>\n",
       "  </thead>\n",
       "  <tbody>\n",
       "  </tbody>\n",
       "</table>\n",
       "</div>"
      ],
      "text/plain": [
       "Empty DataFrame\n",
       "Columns: []\n",
       "Index: []"
      ]
     },
     "execution_count": 44,
     "metadata": {},
     "output_type": "execute_result"
    }
   ],
   "source": [
    "gds.run_cypher('''\n",
    "MATCH ()-[r:SIMILAR_PROJECT]->() DELETE r\n",
    "''')"
   ]
  },
  {
   "cell_type": "code",
   "execution_count": null,
   "id": "5b4a3792",
   "metadata": {
    "collapsed": false,
    "jupyter": {
     "outputs_hidden": false
    },
    "pycharm": {
     "name": "#%%\n"
    }
   },
   "outputs": [],
   "source": [
    "# code to drop all graphs in the graph catalog\n",
    "# g_names = gds.graph.list().graphName.tolist()\n",
    "# [gds.graph.get(g_name).drop() for g_name in g_names]"
   ]
  },
  {
   "cell_type": "markdown",
   "id": "e6000193",
   "metadata": {},
   "source": [
    "## Appendix"
   ]
  },
  {
   "cell_type": "code",
   "execution_count": null,
   "id": "79ee51b0",
   "metadata": {},
   "outputs": [],
   "source": [
    "## Projection for skills similarity - can be used instead of project-project similarity\n",
    "\n",
    "skillsG, result = gds.graph.project( \n",
    "    'skillsGraph', \n",
    "    ['Skill','Project'], {\n",
    "    'REQUIRED_SKILL': {\n",
    "            'orientation': 'REVERSE'\n",
    "    }\n",
    "});"
   ]
  },
  {
   "cell_type": "code",
   "execution_count": null,
   "id": "227c5fda",
   "metadata": {},
   "outputs": [],
   "source": [
    "skillsG.drop()"
   ]
  },
  {
   "cell_type": "markdown",
   "id": "81f5ebd6",
   "metadata": {},
   "source": [
    "#### Create people/project mapping"
   ]
  },
  {
   "cell_type": "code",
   "execution_count": null,
   "id": "8e04ddaf",
   "metadata": {},
   "outputs": [],
   "source": [
    "gds.run_cypher('''\n",
    "    MATCH (p:Personnel)-[:HAS_ACTIVE_STATUS]->(a)  \n",
    "    WITH collect(a) AS person_status\n",
    "    MATCH (p:Project)\n",
    "    WITH p, person_status[toInteger(rand() * (size(person_status)))] AS person\n",
    "    CREATE (person)-[:INVOLVED_IN]->(p)\n",
    "''')"
   ]
  }
 ],
 "metadata": {
  "kernelspec": {
   "display_name": "Python 3 (ipykernel)",
   "language": "python",
   "name": "python3"
  },
  "language_info": {
   "codemirror_mode": {
    "name": "ipython",
    "version": 3
   },
   "file_extension": ".py",
   "mimetype": "text/x-python",
   "name": "python",
   "nbconvert_exporter": "python",
   "pygments_lexer": "ipython3",
   "version": "3.10.5"
  }
 },
 "nbformat": 4,
 "nbformat_minor": 5
}
